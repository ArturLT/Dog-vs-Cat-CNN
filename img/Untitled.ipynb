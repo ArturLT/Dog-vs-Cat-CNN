{
 "cells": [
  {
   "cell_type": "code",
   "execution_count": 1,
   "id": "767fdb3e-0d06-48bd-9332-020e8ea0018d",
   "metadata": {},
   "outputs": [
    {
     "name": "stdout",
     "output_type": "stream",
     "text": [
      "✅ Imagens organizadas com sucesso!\n"
     ]
    }
   ],
   "source": [
    "import os\n",
    "import shutil\n",
    "\n",
    "# Caminho para a pasta com todas as imagens\n",
    "source_dir = 'D:/Workspace/jupyter/img'\n",
    "\n",
    "# Caminho para as pastas organizadas de treino e teste\n",
    "dataset_dir = 'D:/Workspace/jupyter/dataset'\n",
    "train_dir = os.path.join(dataset_dir, 'train')\n",
    "test_dir = os.path.join(dataset_dir, 'test')\n",
    "\n",
    "# Cria as subpastas necessárias\n",
    "for folder in ['train/dogs', 'train/cats', 'test/dogs', 'test/cats']:\n",
    "    os.makedirs(os.path.join(dataset_dir, folder), exist_ok=True)\n",
    "\n",
    "# Lista todos os arquivos da pasta de imagens\n",
    "all_images = os.listdir(source_dir)\n",
    "\n",
    "# Filtra por nome (espera nomes como 'dog123.jpg' e 'cat456.jpg')\n",
    "dog_images = [img for img in all_images if 'dog' in img.lower()]\n",
    "cat_images = [img for img in all_images if 'cat' in img.lower()]\n",
    "\n",
    "# Divide em treino (80%) e teste (20%)\n",
    "split_dogs = int(0.8 * len(dog_images))\n",
    "split_cats = int(0.8 * len(cat_images))\n",
    "\n",
    "train_dogs = dog_images[:split_dogs]\n",
    "test_dogs = dog_images[split_dogs:]\n",
    "\n",
    "train_cats = cat_images[:split_cats]\n",
    "test_cats = cat_images[split_cats:]\n",
    "\n",
    "# Função para copiar arquivos para as pastas corretas\n",
    "def move_images(image_list, dest_folder):\n",
    "    for image in image_list:\n",
    "        src = os.path.join(source_dir, image)\n",
    "        dst = os.path.join(dest_folder, image)\n",
    "        shutil.copy(src, dst)  # ou shutil.move(src, dst) se quiser mover\n",
    "\n",
    "# Move as imagens para treino/teste\n",
    "move_images(train_dogs, os.path.join(train_dir, 'dogs'))\n",
    "move_images(test_dogs, os.path.join(test_dir, 'dogs'))\n",
    "\n",
    "move_images(train_cats, os.path.join(train_dir, 'cats'))\n",
    "move_images(test_cats, os.path.join(test_dir, 'cats'))\n",
    "\n",
    "print(\"✅ Imagens organizadas com sucesso!\")\n"
   ]
  },
  {
   "cell_type": "code",
   "execution_count": null,
   "id": "37cd2cf0-9ff5-4120-a9dd-202d9d7261fb",
   "metadata": {},
   "outputs": [],
   "source": []
  }
 ],
 "metadata": {
  "kernelspec": {
   "display_name": "Python 3 (ipykernel)",
   "language": "python",
   "name": "python3"
  },
  "language_info": {
   "codemirror_mode": {
    "name": "ipython",
    "version": 3
   },
   "file_extension": ".py",
   "mimetype": "text/x-python",
   "name": "python",
   "nbconvert_exporter": "python",
   "pygments_lexer": "ipython3",
   "version": "3.12.7"
  }
 },
 "nbformat": 4,
 "nbformat_minor": 5
}
